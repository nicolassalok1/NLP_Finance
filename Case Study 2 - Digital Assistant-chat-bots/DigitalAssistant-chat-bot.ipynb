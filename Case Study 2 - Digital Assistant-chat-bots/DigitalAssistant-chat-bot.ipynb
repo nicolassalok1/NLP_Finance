{
 "cells": [
  {
   "cell_type": "markdown",
   "metadata": {
    "_cell_guid": "83708667-4fdc-1563-7b3a-06b6575d2865"
   },
   "source": [
    "# Digital Assistant: chat-bots\n",
    "\n",
    "In this case study we build a chatbot prototype using NLP and\n",
    "ML to understand the user’s intent and have response provided based on underlying logic.\n"
   ]
  },
  {
   "cell_type": "markdown",
   "metadata": {},
   "source": [
    "## Content"
   ]
  },
  {
   "cell_type": "markdown",
   "metadata": {},
   "source": [
    "* [1. Problem Definition](#1)\n",
    "* [2. Getting Started - Load Libraries and Dataset](#2)\n",
    "    * [2.1. Load Libraries](#2.1) \n",
    "* [3. Training a default chatbot ](#3)  \n",
    "* [4. Data Preparation for customized chatbot](#4)\n",
    "* [5.Model Construction and Training](#5)        \n",
    "    * [5.1. Model Construction](#5.1)\n",
    "    * [5.2. Building Custom Logic Adapter](#5.2)\n",
    "    * [5.3. Training the model](#5.3)       \n",
    "* [6.Model Testing and Usage](#6)           "
   ]
  },
  {
   "cell_type": "markdown",
   "metadata": {},
   "source": [
    "<a id='1'></a>\n",
    "# 1. Problem Definition"
   ]
  },
  {
   "cell_type": "markdown",
   "metadata": {},
   "source": [
    "The goal of this case study is to build a basic prototype of the conversational chatbot\n",
    "powered by NLP. The primary purpose of this chatbot would be to retrieve the finan‐\n",
    "cial ratio for the company user is looking for. Such chatbots designed to quickly\n",
    "retrieve the summary of a stock or instrument may help the user to make a trading\n",
    "decision."
   ]
  },
  {
   "cell_type": "markdown",
   "metadata": {},
   "source": [
    "<a id='2'></a>\n",
    "# 2. Getting Started- Loading the data and python packages\n"
   ]
  },
  {
   "cell_type": "markdown",
   "metadata": {},
   "source": [
    "<a id='2.1'></a>\n",
    "## 2.1. Loading the python packages\n",
    "For this case study we use python package - chatterbot. Chatterbot is a python library to create a simple chatbot with minimal programming required. \n",
    "Let us chek is the Chatterbot package is present, if not install it. This package is checked separately as it is not included in requirement.txt of this book repository as the package is not used across any other case study of thie book."
   ]
  },
  {
   "cell_type": "code",
   "metadata": {
    "ExecuteTime": {
     "end_time": "2025-10-01T23:08:17.920658Z",
     "start_time": "2025-10-01T23:08:17.917885Z"
    }
   },
   "source": "",
   "outputs": [],
   "execution_count": null
  },
  {
   "cell_type": "markdown",
   "metadata": {},
   "source": [
    "Let us load the chatterbot package"
   ]
  },
  {
   "cell_type": "code",
   "metadata": {
    "_cell_guid": "5d8fee34-f454-2642-8b06-ed719f0317e1",
    "ExecuteTime": {
     "end_time": "2025-10-01T23:08:19.681934Z",
     "start_time": "2025-10-01T23:08:18.012746Z"
    }
   },
   "source": [
    "# Load libraries\n",
    "from chatterbot import ChatBot\n",
    "from chatterbot.logic import LogicAdapter\n",
    "from chatterbot.trainers import ChatterBotCorpusTrainer\n",
    "from chatterbot.trainers import ListTrainer"
   ],
   "outputs": [],
   "execution_count": 2
  },
  {
   "cell_type": "code",
   "metadata": {
    "ExecuteTime": {
     "end_time": "2025-10-01T23:08:19.689597Z",
     "start_time": "2025-10-01T23:08:19.687331Z"
    }
   },
   "source": [
    "#Diable the warnings\n",
    "import warnings\n",
    "warnings.filterwarnings('ignore')"
   ],
   "outputs": [],
   "execution_count": 3
  },
  {
   "cell_type": "markdown",
   "metadata": {},
   "source": [
    "Before we move to the customised chatbot, let us develop a chatbot using the defualt features and logic adapters of chatterbot package. "
   ]
  },
  {
   "cell_type": "markdown",
   "metadata": {},
   "source": [
    "<a id='3'></a>\n",
    "## 3 Training a default chatbot "
   ]
  },
  {
   "cell_type": "markdown",
   "metadata": {},
   "source": [
    "Before we move on to build a chatbot for customised function avilable in chatterbot. Chatterbot and many other chatbot packages comes with a data utility module that can be used to train the chatbots.\n",
    "\n",
    "Following is a simple example to get started with ChatterBot in python with the following components. \n",
    "* **preprocessors** \n",
    "* **logic_adapters** \n",
    "* **corpus training** \n",
    "* **list training** "
   ]
  },
  {
   "cell_type": "code",
   "metadata": {
    "ExecuteTime": {
     "end_time": "2025-10-01T23:08:22.798968Z",
     "start_time": "2025-10-01T23:08:19.776813Z"
    }
   },
   "source": [
    "from chatterbot import ChatBot\n",
    "from chatterbot.trainers import ListTrainer\n",
    "\n",
    "# Création du chatbot\n",
    "chatB = ChatBot(\n",
    "    'MonChatbot',\n",
    "    storage_adapter='chatterbot.storage.SQLStorageAdapter',\n",
    "    database_uri='sqlite:///database.sqlite3',\n",
    "    logic_adapters=[\n",
    "        'chatterbot.logic.BestMatch',\n",
    "        'chatterbot.logic.MathematicalEvaluation'\n",
    "    ]\n",
    ")\n",
    "\n",
    "# Entraînement avec des conversations personnalisées\n",
    "trainer = ListTrainer(chatB)\n",
    "\n",
    "# Exemples de conversations en anglais\n",
    "conversations = [\n",
    "    # Salutations\n",
    "    [\"Hello\", \"Hi there!\"],\n",
    "    [\"Hi\", \"Hello! How can I help you today?\"],\n",
    "    [\"How are you?\", \"I'm doing well, thank you for asking.\"],\n",
    "    [\"Good morning\", \"Good morning! How are you today?\"],\n",
    "\n",
    "    # Questions simples\n",
    "    [\"What's your name?\", \"I'm a digital assistant created with ChatterBot.\"],\n",
    "    [\"What can you do?\", \"I can chat with you and answer questions based on my training.\"],\n",
    "\n",
    "    # Conversations basiques\n",
    "    [\"I need help\", \"I'll do my best to assist you. What do you need help with?\"],\n",
    "    [\"Tell me a joke\", \"Why don't scientists trust atoms? Because they make up everything!\"],\n",
    "    [\"Thank you\", \"You're welcome! Is there anything else I can help you with?\"],\n",
    "    [\"Goodbye\", \"Goodbye! Have a great day!\"]\n",
    "]\n",
    "\n",
    "# Entraîner le chatbot avec chaque paire de conversation\n",
    "for conversation in conversations:\n",
    "    trainer.train(conversation)\n",
    "\n",
    "# Test du chatbot\n",
    "print(\"Chatbot prêt ! Tapez 'exit' pour quitter.\")\n",
    "while True:\n",
    "    user_input = input(\"Vous: \")\n",
    "    if user_input.lower() == 'exit':\n",
    "        break\n",
    "    response = chatB.get_response(user_input)\n",
    "    print(f\"ChatBot: {response}\")\n"
   ],
   "outputs": [
    {
     "name": "stderr",
     "output_type": "stream",
     "text": [
      "List Trainer: 2it [00:00, 461.55it/s]\n",
      "List Trainer: 2it [00:00, 478.97it/s]\n",
      "List Trainer: 2it [00:00, 414.52it/s]\n",
      "List Trainer: 2it [00:00, 596.93it/s]\n",
      "List Trainer: 2it [00:00, 487.82it/s]\n",
      "List Trainer: 2it [00:00, 488.88it/s]\n",
      "List Trainer: 2it [00:00, 411.15it/s]\n",
      "List Trainer: 2it [00:00, 528.08it/s]\n",
      "List Trainer: 2it [00:00, 567.60it/s]\n",
      "List Trainer: 2it [00:00, 689.06it/s]"
     ]
    },
    {
     "name": "stdout",
     "output_type": "stream",
     "text": [
      "Chatbot prêt ! Tapez 'exit' pour quitter.\n"
     ]
    },
    {
     "name": "stderr",
     "output_type": "stream",
     "text": [
      "\n"
     ]
    },
    {
     "ename": "KeyboardInterrupt",
     "evalue": "Interrupted by user",
     "output_type": "error",
     "traceback": [
      "\u001B[31m---------------------------------------------------------------------------\u001B[39m",
      "\u001B[31mKeyboardInterrupt\u001B[39m                         Traceback (most recent call last)",
      "\u001B[36mCell\u001B[39m\u001B[36m \u001B[39m\u001B[32mIn[4]\u001B[39m\u001B[32m, line 44\u001B[39m\n\u001B[32m     42\u001B[39m \u001B[38;5;28mprint\u001B[39m(\u001B[33m\"\u001B[39m\u001B[33mChatbot prêt ! Tapez \u001B[39m\u001B[33m'\u001B[39m\u001B[33mexit\u001B[39m\u001B[33m'\u001B[39m\u001B[33m pour quitter.\u001B[39m\u001B[33m\"\u001B[39m)\n\u001B[32m     43\u001B[39m \u001B[38;5;28;01mwhile\u001B[39;00m \u001B[38;5;28;01mTrue\u001B[39;00m:\n\u001B[32m---> \u001B[39m\u001B[32m44\u001B[39m     user_input = \u001B[38;5;28;43minput\u001B[39;49m\u001B[43m(\u001B[49m\u001B[33;43m\"\u001B[39;49m\u001B[33;43mVous: \u001B[39;49m\u001B[33;43m\"\u001B[39;49m\u001B[43m)\u001B[49m\n\u001B[32m     45\u001B[39m     \u001B[38;5;28;01mif\u001B[39;00m user_input.lower() == \u001B[33m'\u001B[39m\u001B[33mexit\u001B[39m\u001B[33m'\u001B[39m:\n\u001B[32m     46\u001B[39m         \u001B[38;5;28;01mbreak\u001B[39;00m\n",
      "\u001B[36mFile \u001B[39m\u001B[32m~/miniconda/envs/dl-gpu-clone/lib/python3.12/site-packages/ipykernel/kernelbase.py:1275\u001B[39m, in \u001B[36mKernel.raw_input\u001B[39m\u001B[34m(self, prompt)\u001B[39m\n\u001B[32m   1273\u001B[39m     msg = \u001B[33m\"\u001B[39m\u001B[33mraw_input was called, but this frontend does not support input requests.\u001B[39m\u001B[33m\"\u001B[39m\n\u001B[32m   1274\u001B[39m     \u001B[38;5;28;01mraise\u001B[39;00m StdinNotImplementedError(msg)\n\u001B[32m-> \u001B[39m\u001B[32m1275\u001B[39m \u001B[38;5;28;01mreturn\u001B[39;00m \u001B[38;5;28;43mself\u001B[39;49m\u001B[43m.\u001B[49m\u001B[43m_input_request\u001B[49m\u001B[43m(\u001B[49m\n\u001B[32m   1276\u001B[39m \u001B[43m    \u001B[49m\u001B[38;5;28;43mstr\u001B[39;49m\u001B[43m(\u001B[49m\u001B[43mprompt\u001B[49m\u001B[43m)\u001B[49m\u001B[43m,\u001B[49m\n\u001B[32m   1277\u001B[39m \u001B[43m    \u001B[49m\u001B[38;5;28;43mself\u001B[39;49m\u001B[43m.\u001B[49m\u001B[43m_parent_ident\u001B[49m\u001B[43m[\u001B[49m\u001B[33;43m\"\u001B[39;49m\u001B[33;43mshell\u001B[39;49m\u001B[33;43m\"\u001B[39;49m\u001B[43m]\u001B[49m\u001B[43m,\u001B[49m\n\u001B[32m   1278\u001B[39m \u001B[43m    \u001B[49m\u001B[38;5;28;43mself\u001B[39;49m\u001B[43m.\u001B[49m\u001B[43mget_parent\u001B[49m\u001B[43m(\u001B[49m\u001B[33;43m\"\u001B[39;49m\u001B[33;43mshell\u001B[39;49m\u001B[33;43m\"\u001B[39;49m\u001B[43m)\u001B[49m\u001B[43m,\u001B[49m\n\u001B[32m   1279\u001B[39m \u001B[43m    \u001B[49m\u001B[43mpassword\u001B[49m\u001B[43m=\u001B[49m\u001B[38;5;28;43;01mFalse\u001B[39;49;00m\u001B[43m,\u001B[49m\n\u001B[32m   1280\u001B[39m \u001B[43m\u001B[49m\u001B[43m)\u001B[49m\n",
      "\u001B[36mFile \u001B[39m\u001B[32m~/miniconda/envs/dl-gpu-clone/lib/python3.12/site-packages/ipykernel/kernelbase.py:1320\u001B[39m, in \u001B[36mKernel._input_request\u001B[39m\u001B[34m(self, prompt, ident, parent, password)\u001B[39m\n\u001B[32m   1317\u001B[39m \u001B[38;5;28;01mexcept\u001B[39;00m \u001B[38;5;167;01mKeyboardInterrupt\u001B[39;00m:\n\u001B[32m   1318\u001B[39m     \u001B[38;5;66;03m# re-raise KeyboardInterrupt, to truncate traceback\u001B[39;00m\n\u001B[32m   1319\u001B[39m     msg = \u001B[33m\"\u001B[39m\u001B[33mInterrupted by user\u001B[39m\u001B[33m\"\u001B[39m\n\u001B[32m-> \u001B[39m\u001B[32m1320\u001B[39m     \u001B[38;5;28;01mraise\u001B[39;00m \u001B[38;5;167;01mKeyboardInterrupt\u001B[39;00m(msg) \u001B[38;5;28;01mfrom\u001B[39;00m\u001B[38;5;250m \u001B[39m\u001B[38;5;28;01mNone\u001B[39;00m\n\u001B[32m   1321\u001B[39m \u001B[38;5;28;01mexcept\u001B[39;00m \u001B[38;5;167;01mException\u001B[39;00m:\n\u001B[32m   1322\u001B[39m     \u001B[38;5;28mself\u001B[39m.log.warning(\u001B[33m\"\u001B[39m\u001B[33mInvalid Message:\u001B[39m\u001B[33m\"\u001B[39m, exc_info=\u001B[38;5;28;01mTrue\u001B[39;00m)\n",
      "\u001B[31mKeyboardInterrupt\u001B[39m: Interrupted by user"
     ]
    }
   ],
   "execution_count": 4
  },
  {
   "metadata": {
    "ExecuteTime": {
     "end_time": "2025-10-01T23:08:22.699891600Z",
     "start_time": "2025-05-02T16:59:20.026428Z"
    }
   },
   "cell_type": "code",
   "outputs": [
    {
     "name": "stderr",
     "output_type": "stream",
     "text": [
      "ChatterBot Corpus Trainer: 0it [00:00, ?it/s]\n"
     ]
    },
    {
     "ename": "FileNotFoundError",
     "evalue": "[Errno 2] No such file or directory: 'C:\\\\Users\\\\nicol\\\\chatterbot_corpus\\\\data\\\\english'",
     "output_type": "error",
     "traceback": [
      "\u001B[31m---------------------------------------------------------------------------\u001B[39m",
      "\u001B[31mFileNotFoundError\u001B[39m                         Traceback (most recent call last)",
      "\u001B[36mCell\u001B[39m\u001B[36m \u001B[39m\u001B[32mIn[4]\u001B[39m\u001B[32m, line 10\u001B[39m\n\u001B[32m      7\u001B[39m trainerCorpus = ChatterBotCorpusTrainer(chatB)\n\u001B[32m      9\u001B[39m \u001B[38;5;66;03m#Train based on English Corpus\u001B[39;00m\n\u001B[32m---> \u001B[39m\u001B[32m10\u001B[39m \u001B[43mtrainerCorpus\u001B[49m\u001B[43m.\u001B[49m\u001B[43mtrain\u001B[49m\u001B[43m(\u001B[49m\n\u001B[32m     11\u001B[39m \u001B[43m    \u001B[49m\u001B[33;43m\"\u001B[39;49m\u001B[33;43mchatterbot.corpus.english\u001B[39;49m\u001B[33;43m\"\u001B[39;49m\n\u001B[32m     12\u001B[39m \u001B[43m)\u001B[49m\n\u001B[32m     13\u001B[39m \u001B[38;5;66;03m# Train based on english greetings corpus\u001B[39;00m\n\u001B[32m     14\u001B[39m trainerCorpus.train(\u001B[33m\"\u001B[39m\u001B[33mchatterbot.corpus.english.greetings\u001B[39m\u001B[33m\"\u001B[39m)\n",
      "\u001B[36mFile \u001B[39m\u001B[32mD:\\Documents\\ML\\Anaconda\\Lib\\site-packages\\chatterbot\\trainers.py:135\u001B[39m, in \u001B[36mChatterBotCorpusTrainer.train\u001B[39m\u001B[34m(self, *corpus_paths)\u001B[39m\n\u001B[32m    132\u001B[39m \u001B[38;5;28;01mfor\u001B[39;00m corpus_path \u001B[38;5;129;01min\u001B[39;00m corpus_paths:\n\u001B[32m    133\u001B[39m     data_file_paths.extend(list_corpus_files(corpus_path))\n\u001B[32m--> \u001B[39m\u001B[32m135\u001B[39m \u001B[43m\u001B[49m\u001B[38;5;28;43;01mfor\u001B[39;49;00m\u001B[43m \u001B[49m\u001B[43mcorpus\u001B[49m\u001B[43m,\u001B[49m\u001B[43m \u001B[49m\u001B[43mcategories\u001B[49m\u001B[43m,\u001B[49m\u001B[43m \u001B[49m\u001B[43m_file_path\u001B[49m\u001B[43m \u001B[49m\u001B[38;5;129;43;01min\u001B[39;49;00m\u001B[43m \u001B[49m\u001B[43mtqdm\u001B[49m\u001B[43m(\u001B[49m\n\u001B[32m    136\u001B[39m \u001B[43m    \u001B[49m\u001B[43mload_corpus\u001B[49m\u001B[43m(\u001B[49m\u001B[43m*\u001B[49m\u001B[43mdata_file_paths\u001B[49m\u001B[43m)\u001B[49m\u001B[43m,\u001B[49m\n\u001B[32m    137\u001B[39m \u001B[43m    \u001B[49m\u001B[43mdesc\u001B[49m\u001B[43m=\u001B[49m\u001B[33;43m'\u001B[39;49m\u001B[33;43mChatterBot Corpus Trainer\u001B[39;49m\u001B[33;43m'\u001B[39;49m\u001B[43m,\u001B[49m\n\u001B[32m    138\u001B[39m \u001B[43m    \u001B[49m\u001B[43mdisable\u001B[49m\u001B[43m=\u001B[49m\u001B[38;5;28;43mself\u001B[39;49m\u001B[43m.\u001B[49m\u001B[43mdisable_progress\u001B[49m\n\u001B[32m    139\u001B[39m \u001B[43m\u001B[49m\u001B[43m)\u001B[49m\u001B[43m:\u001B[49m\n\u001B[32m    140\u001B[39m \u001B[43m    \u001B[49m\u001B[43mstatements_to_create\u001B[49m\u001B[43m \u001B[49m\u001B[43m=\u001B[49m\u001B[43m \u001B[49m\u001B[43m[\u001B[49m\u001B[43m]\u001B[49m\n\u001B[32m    142\u001B[39m \u001B[43m    \u001B[49m\u001B[38;5;66;43;03m# Train the chat bot with each statement and response pair\u001B[39;49;00m\n",
      "\u001B[36mFile \u001B[39m\u001B[32mD:\\Documents\\ML\\Anaconda\\Lib\\site-packages\\tqdm\\std.py:1181\u001B[39m, in \u001B[36mtqdm.__iter__\u001B[39m\u001B[34m(self)\u001B[39m\n\u001B[32m   1178\u001B[39m time = \u001B[38;5;28mself\u001B[39m._time\n\u001B[32m   1180\u001B[39m \u001B[38;5;28;01mtry\u001B[39;00m:\n\u001B[32m-> \u001B[39m\u001B[32m1181\u001B[39m \u001B[43m    \u001B[49m\u001B[38;5;28;43;01mfor\u001B[39;49;00m\u001B[43m \u001B[49m\u001B[43mobj\u001B[49m\u001B[43m \u001B[49m\u001B[38;5;129;43;01min\u001B[39;49;00m\u001B[43m \u001B[49m\u001B[43miterable\u001B[49m\u001B[43m:\u001B[49m\n\u001B[32m   1182\u001B[39m \u001B[43m        \u001B[49m\u001B[38;5;28;43;01myield\u001B[39;49;00m\u001B[43m \u001B[49m\u001B[43mobj\u001B[49m\n\u001B[32m   1183\u001B[39m \u001B[43m        \u001B[49m\u001B[38;5;66;43;03m# Update and possibly print the progressbar.\u001B[39;49;00m\n\u001B[32m   1184\u001B[39m \u001B[43m        \u001B[49m\u001B[38;5;66;43;03m# Note: does not call self.update(1) for speed optimisation.\u001B[39;49;00m\n",
      "\u001B[36mFile \u001B[39m\u001B[32mD:\\Documents\\ML\\Anaconda\\Lib\\site-packages\\chatterbot\\corpus.py:84\u001B[39m, in \u001B[36mload_corpus\u001B[39m\u001B[34m(*data_file_paths)\u001B[39m\n\u001B[32m     82\u001B[39m \u001B[38;5;28;01mfor\u001B[39;00m file_path \u001B[38;5;129;01min\u001B[39;00m data_file_paths:\n\u001B[32m     83\u001B[39m     corpus = []\n\u001B[32m---> \u001B[39m\u001B[32m84\u001B[39m     corpus_data = \u001B[43mread_corpus\u001B[49m\u001B[43m(\u001B[49m\u001B[43mfile_path\u001B[49m\u001B[43m)\u001B[49m\n\u001B[32m     86\u001B[39m     conversations = corpus_data.get(\u001B[33m'\u001B[39m\u001B[33mconversations\u001B[39m\u001B[33m'\u001B[39m, [])\n\u001B[32m     87\u001B[39m     corpus.extend(conversations)\n",
      "\u001B[36mFile \u001B[39m\u001B[32mD:\\Documents\\ML\\Anaconda\\Lib\\site-packages\\chatterbot\\corpus.py:58\u001B[39m, in \u001B[36mread_corpus\u001B[39m\u001B[34m(file_name)\u001B[39m\n\u001B[32m     51\u001B[39m     message = (\n\u001B[32m     52\u001B[39m         \u001B[33m'\u001B[39m\u001B[33mUnable to import \u001B[39m\u001B[33m\"\u001B[39m\u001B[33myaml\u001B[39m\u001B[33m\"\u001B[39m\u001B[33m.\u001B[39m\u001B[38;5;130;01m\\n\u001B[39;00m\u001B[33m'\u001B[39m\n\u001B[32m     53\u001B[39m         \u001B[33m'\u001B[39m\u001B[33mPlease install \u001B[39m\u001B[33m\"\u001B[39m\u001B[33mpyyaml\u001B[39m\u001B[33m\"\u001B[39m\u001B[33m to enable chatterbot corpus functionality:\u001B[39m\u001B[38;5;130;01m\\n\u001B[39;00m\u001B[33m'\u001B[39m\n\u001B[32m     54\u001B[39m         \u001B[33m'\u001B[39m\u001B[33mpip install pyyaml\u001B[39m\u001B[33m'\u001B[39m\n\u001B[32m     55\u001B[39m     )\n\u001B[32m     56\u001B[39m     \u001B[38;5;28;01mraise\u001B[39;00m OptionalDependencyImportError(message)\n\u001B[32m---> \u001B[39m\u001B[32m58\u001B[39m \u001B[38;5;28;01mwith\u001B[39;00m \u001B[43mio\u001B[49m\u001B[43m.\u001B[49m\u001B[43mopen\u001B[49m\u001B[43m(\u001B[49m\u001B[43mfile_name\u001B[49m\u001B[43m,\u001B[49m\u001B[43m \u001B[49m\u001B[43mencoding\u001B[49m\u001B[43m=\u001B[49m\u001B[33;43m'\u001B[39;49m\u001B[33;43mutf-8\u001B[39;49m\u001B[33;43m'\u001B[39;49m\u001B[43m)\u001B[49m \u001B[38;5;28;01mas\u001B[39;00m data_file:\n\u001B[32m     59\u001B[39m     \u001B[38;5;28;01mreturn\u001B[39;00m yaml.safe_load(data_file)\n",
      "\u001B[31mFileNotFoundError\u001B[39m: [Errno 2] No such file or directory: 'C:\\\\Users\\\\nicol\\\\chatterbot_corpus\\\\data\\\\english'"
     ]
    }
   ],
   "execution_count": 4,
   "source": ""
  },
  {
   "cell_type": "code",
   "metadata": {
    "ExecuteTime": {
     "end_time": "2025-10-01T23:08:58.950589Z",
     "start_time": "2025-10-01T23:08:58.947701Z"
    }
   },
   "source": [
    "def converse(quit=\"quit\"):\n",
    "    user_input = \"\"\n",
    "    while user_input != quit:\n",
    "        user_input = quit\n",
    "        try:\n",
    "            user_input = input(\">\")\n",
    "        except EOFError:\n",
    "            print(user_input)\n",
    "        if user_input:\n",
    "            while user_input[-1] in \"!.\":\n",
    "                user_input = user_input[:-1]\n",
    "            print(chatB.get_response(user_input))"
   ],
   "outputs": [],
   "execution_count": 5
  },
  {
   "cell_type": "code",
   "metadata": {
    "ExecuteTime": {
     "end_time": "2025-10-01T23:09:02.058139Z",
     "start_time": "2025-10-01T23:08:59.011865Z"
    }
   },
   "source": [
    "converse()"
   ],
   "outputs": [
    {
     "ename": "KeyboardInterrupt",
     "evalue": "Interrupted by user",
     "output_type": "error",
     "traceback": [
      "\u001B[31m---------------------------------------------------------------------------\u001B[39m",
      "\u001B[31mKeyboardInterrupt\u001B[39m                         Traceback (most recent call last)",
      "\u001B[36mCell\u001B[39m\u001B[36m \u001B[39m\u001B[32mIn[6]\u001B[39m\u001B[32m, line 1\u001B[39m\n\u001B[32m----> \u001B[39m\u001B[32m1\u001B[39m \u001B[43mconverse\u001B[49m\u001B[43m(\u001B[49m\u001B[43m)\u001B[49m\n",
      "\u001B[36mCell\u001B[39m\u001B[36m \u001B[39m\u001B[32mIn[5]\u001B[39m\u001B[32m, line 6\u001B[39m, in \u001B[36mconverse\u001B[39m\u001B[34m(quit)\u001B[39m\n\u001B[32m      4\u001B[39m user_input = quit\n\u001B[32m      5\u001B[39m \u001B[38;5;28;01mtry\u001B[39;00m:\n\u001B[32m----> \u001B[39m\u001B[32m6\u001B[39m     user_input = \u001B[38;5;28;43minput\u001B[39;49m\u001B[43m(\u001B[49m\u001B[33;43m\"\u001B[39;49m\u001B[33;43m>\u001B[39;49m\u001B[33;43m\"\u001B[39;49m\u001B[43m)\u001B[49m\n\u001B[32m      7\u001B[39m \u001B[38;5;28;01mexcept\u001B[39;00m \u001B[38;5;167;01mEOFError\u001B[39;00m:\n\u001B[32m      8\u001B[39m     \u001B[38;5;28mprint\u001B[39m(user_input)\n",
      "\u001B[36mFile \u001B[39m\u001B[32m~/miniconda/envs/dl-gpu-clone/lib/python3.12/site-packages/ipykernel/kernelbase.py:1275\u001B[39m, in \u001B[36mKernel.raw_input\u001B[39m\u001B[34m(self, prompt)\u001B[39m\n\u001B[32m   1273\u001B[39m     msg = \u001B[33m\"\u001B[39m\u001B[33mraw_input was called, but this frontend does not support input requests.\u001B[39m\u001B[33m\"\u001B[39m\n\u001B[32m   1274\u001B[39m     \u001B[38;5;28;01mraise\u001B[39;00m StdinNotImplementedError(msg)\n\u001B[32m-> \u001B[39m\u001B[32m1275\u001B[39m \u001B[38;5;28;01mreturn\u001B[39;00m \u001B[38;5;28;43mself\u001B[39;49m\u001B[43m.\u001B[49m\u001B[43m_input_request\u001B[49m\u001B[43m(\u001B[49m\n\u001B[32m   1276\u001B[39m \u001B[43m    \u001B[49m\u001B[38;5;28;43mstr\u001B[39;49m\u001B[43m(\u001B[49m\u001B[43mprompt\u001B[49m\u001B[43m)\u001B[49m\u001B[43m,\u001B[49m\n\u001B[32m   1277\u001B[39m \u001B[43m    \u001B[49m\u001B[38;5;28;43mself\u001B[39;49m\u001B[43m.\u001B[49m\u001B[43m_parent_ident\u001B[49m\u001B[43m[\u001B[49m\u001B[33;43m\"\u001B[39;49m\u001B[33;43mshell\u001B[39;49m\u001B[33;43m\"\u001B[39;49m\u001B[43m]\u001B[49m\u001B[43m,\u001B[49m\n\u001B[32m   1278\u001B[39m \u001B[43m    \u001B[49m\u001B[38;5;28;43mself\u001B[39;49m\u001B[43m.\u001B[49m\u001B[43mget_parent\u001B[49m\u001B[43m(\u001B[49m\u001B[33;43m\"\u001B[39;49m\u001B[33;43mshell\u001B[39;49m\u001B[33;43m\"\u001B[39;49m\u001B[43m)\u001B[49m\u001B[43m,\u001B[49m\n\u001B[32m   1279\u001B[39m \u001B[43m    \u001B[49m\u001B[43mpassword\u001B[49m\u001B[43m=\u001B[49m\u001B[38;5;28;43;01mFalse\u001B[39;49;00m\u001B[43m,\u001B[49m\n\u001B[32m   1280\u001B[39m \u001B[43m\u001B[49m\u001B[43m)\u001B[49m\n",
      "\u001B[36mFile \u001B[39m\u001B[32m~/miniconda/envs/dl-gpu-clone/lib/python3.12/site-packages/ipykernel/kernelbase.py:1320\u001B[39m, in \u001B[36mKernel._input_request\u001B[39m\u001B[34m(self, prompt, ident, parent, password)\u001B[39m\n\u001B[32m   1317\u001B[39m \u001B[38;5;28;01mexcept\u001B[39;00m \u001B[38;5;167;01mKeyboardInterrupt\u001B[39;00m:\n\u001B[32m   1318\u001B[39m     \u001B[38;5;66;03m# re-raise KeyboardInterrupt, to truncate traceback\u001B[39;00m\n\u001B[32m   1319\u001B[39m     msg = \u001B[33m\"\u001B[39m\u001B[33mInterrupted by user\u001B[39m\u001B[33m\"\u001B[39m\n\u001B[32m-> \u001B[39m\u001B[32m1320\u001B[39m     \u001B[38;5;28;01mraise\u001B[39;00m \u001B[38;5;167;01mKeyboardInterrupt\u001B[39;00m(msg) \u001B[38;5;28;01mfrom\u001B[39;00m\u001B[38;5;250m \u001B[39m\u001B[38;5;28;01mNone\u001B[39;00m\n\u001B[32m   1321\u001B[39m \u001B[38;5;28;01mexcept\u001B[39;00m \u001B[38;5;167;01mException\u001B[39;00m:\n\u001B[32m   1322\u001B[39m     \u001B[38;5;28mself\u001B[39m.log.warning(\u001B[33m\"\u001B[39m\u001B[33mInvalid Message:\u001B[39m\u001B[33m\"\u001B[39m, exc_info=\u001B[38;5;28;01mTrue\u001B[39;00m)\n",
      "\u001B[31mKeyboardInterrupt\u001B[39m: Interrupted by user"
     ]
    }
   ],
   "execution_count": 6
  },
  {
   "cell_type": "markdown",
   "metadata": {},
   "source": [
    "In this example, we see a fairly good chatbot which gives us response according to the input that we have given. The first two responses are due to the training on english greetings and conversation corpus. Additionally the response to \"tell me a joke\" and \"what is a dollar\" are due to the training on the english corpus. The computation in the forth line is the result of the chatbot being trained on the Mathematical Evaluation logical adapter. The response to \"Help\" and \"What is a bitcoin\" are the result of the customised list trainers. \n",
    "\n",
    "Given, that we have already have a customised chatbot, we move on to create a chatbot which is designed to give us the financial ratios of a company based on a customised logical adapter."
   ]
  },
  {
   "cell_type": "markdown",
   "metadata": {},
   "source": [
    "<a id='4'></a>\n",
    "# 4. Data Preparation for customized chatbot"
   ]
  },
  {
   "cell_type": "markdown",
   "metadata": {},
   "source": [
    "The purpose of performing the data preparation is to use it for training through logic adapter.The details are under https://chatterbot.readthedocs.io/en/stable/logic/create-a-logic-adapter.html. Given the logic adapter need to be in a separate file from the chat bot, we perform the step of data preparation in the module **financial_ratio_adapter.py** where logic adapter is created.\n"
   ]
  },
  {
   "cell_type": "markdown",
   "metadata": {},
   "source": [
    "<a id='5'></a>\n",
    "# 5. Model construction and training"
   ]
  },
  {
   "cell_type": "markdown",
   "metadata": {},
   "source": [
    "<a id='5.1'></a>\n",
    "## 5.1 and 5.2 Model optimization function and building custom logic adapter\n",
    "Step 4.2 and 4.2 are shown in the module **financial_ratio_adapter.py**, given the logic adapter need to be in a separate file from the chat bot. In the next step we train the chatbot, which trains it on the customised logic adapter. "
   ]
  },
  {
   "cell_type": "markdown",
   "metadata": {},
   "source": [
    "<a id='5.3'></a>\n",
    "## 5.3. Training the model"
   ]
  },
  {
   "cell_type": "markdown",
   "metadata": {},
   "source": [
    "In this step we combine all the components (i.e. preprocessor, custom logical adapter, list and corpus trainer) with the custom logical adapter (financial_ratio_adapter.FinancialRatioAdapter) that we have created. "
   ]
  },
  {
   "cell_type": "code",
   "metadata": {
    "ExecuteTime": {
     "end_time": "2025-10-01T23:09:17.925298Z",
     "start_time": "2025-10-01T23:09:06.839669Z"
    }
   },
   "source": [
    "#from chatterbot import ChatBot\n",
    "#from chatterbot.trainers import ChatterBotCorpusTrainer, ListTrainer\n",
    "# Si vous avez besoin d’importer la classe (non obligatoire quand on utilise la notation string)\n",
    "from financial_ratio_adapter import FinancialRatioAdapter\n",
    "\n",
    "# Création du bot\n",
    "chatbot = ChatBot(\n",
    "    \"My ChatterBot\",\n",
    "    preprocessors=['chatterbot.preprocessors.clean_whitespace'],\n",
    "    logic_adapters=[\n",
    "        'financial_ratio_adapter.FinancialRatioAdapter',\n",
    "        'chatterbot.logic.MathematicalEvaluation',\n",
    "        'chatterbot.logic.BestMatch'\n",
    "    ]\n",
    ")\n",
    "\n",
    "# --- Entraînement sur le corpus anglais ---\n",
    "trainer_corpus = ChatterBotCorpusTrainer(chatbot)\n",
    "trainer_corpus.train(\n",
    "    \"chatterbot.corpus.english\",               # tout le corpus anglais\n",
    "    \"chatterbot.corpus.english.greetings\",     # sous-ensemble « greetings »\n",
    "    \"chatterbot.corpus.english.conversations\"  # sous-ensemble « conversations »\n",
    ")\n",
    "\n",
    "# --- Entraînement par liste de phrases personnalisées ---\n",
    "trainer_list = ListTrainer(chatbot)\n",
    "trainer_list.train([\n",
    "    'Help!',\n",
    "    'Please go to google.com',\n",
    "    'What is Bitcoin?',\n",
    "    'It is a decentralized digital currency'\n",
    "])\n",
    "trainer_list.train([\n",
    "    'What is Bitcoin?',\n",
    "    'Bitcoin is a cryptocurrency.'\n",
    "])\n",
    "\n",
    "# Maintenant vous pouvez interroger votre bot :\n",
    "response = chatbot.get_response(\"What is Bitcoin?\")\n",
    "print(response)\n"
   ],
   "outputs": [
    {
     "name": "stdout",
     "output_type": "stream",
     "text": [
      "Losses {'ner': 252.49549163795749}\n",
      "Losses {'ner': 61.18244225838724}\n",
      "Losses {'ner': 11.48824723875812}\n",
      "Losses {'ner': 6.287279799801529}\n",
      "Losses {'ner': 5.415219547954935}\n",
      "Losses {'ner': 0.44349160057117065}\n",
      "Losses {'ner': 0.336181985200464}\n",
      "Losses {'ner': 0.00174081375302783}\n",
      "Losses {'ner': 7.71491511833389e-05}\n",
      "Losses {'ner': 0.0001526174413809689}\n",
      "Losses {'ner': 0.0004344194677382904}\n",
      "Losses {'ner': 0.13756048812953858}\n",
      "Losses {'ner': 0.2465376374802094}\n",
      "Losses {'ner': 0.0005588891287801219}\n",
      "Losses {'ner': 0.09710705070293586}\n",
      "Losses {'ner': 0.013583869372879594}\n",
      "Losses {'ner': 4.232300493058465e-06}\n",
      "Losses {'ner': 1.2692900842594617e-05}\n",
      "Losses {'ner': 0.0006228107421142157}\n",
      "Losses {'ner': 0.018708633914338767}\n",
      "Losses {'ner': 4.912839534656624e-05}\n",
      "Losses {'ner': 5.429221025855801e-05}\n",
      "Losses {'ner': 0.00013031299387893122}\n",
      "Losses {'ner': 1.9474075100849666e-05}\n",
      "Losses {'ner': 1.752569118077677}\n",
      "Losses {'ner': 0.0015697277426086039}\n",
      "Losses {'ner': 0.0022833010162673817}\n",
      "Losses {'ner': 0.005054701221314191}\n",
      "Losses {'ner': 0.4137548279708595}\n",
      "Losses {'ner': 1.548391557988383}\n"
     ]
    },
    {
     "name": "stderr",
     "output_type": "stream",
     "text": [
      "ChatterBot Corpus Trainer: 0it [00:00, ?it/s]\n"
     ]
    },
    {
     "ename": "FileNotFoundError",
     "evalue": "[Errno 2] No such file or directory: '/home/salok1/chatterbot_corpus/data/english'",
     "output_type": "error",
     "traceback": [
      "\u001B[31m---------------------------------------------------------------------------\u001B[39m",
      "\u001B[31mFileNotFoundError\u001B[39m                         Traceback (most recent call last)",
      "\u001B[36mCell\u001B[39m\u001B[36m \u001B[39m\u001B[32mIn[7]\u001B[39m\u001B[32m, line 19\u001B[39m\n\u001B[32m     17\u001B[39m \u001B[38;5;66;03m# --- Entraînement sur le corpus anglais ---\u001B[39;00m\n\u001B[32m     18\u001B[39m trainer_corpus = ChatterBotCorpusTrainer(chatbot)\n\u001B[32m---> \u001B[39m\u001B[32m19\u001B[39m \u001B[43mtrainer_corpus\u001B[49m\u001B[43m.\u001B[49m\u001B[43mtrain\u001B[49m\u001B[43m(\u001B[49m\n\u001B[32m     20\u001B[39m \u001B[43m    \u001B[49m\u001B[33;43m\"\u001B[39;49m\u001B[33;43mchatterbot.corpus.english\u001B[39;49m\u001B[33;43m\"\u001B[39;49m\u001B[43m,\u001B[49m\u001B[43m               \u001B[49m\u001B[38;5;66;43;03m# tout le corpus anglais\u001B[39;49;00m\n\u001B[32m     21\u001B[39m \u001B[43m    \u001B[49m\u001B[33;43m\"\u001B[39;49m\u001B[33;43mchatterbot.corpus.english.greetings\u001B[39;49m\u001B[33;43m\"\u001B[39;49m\u001B[43m,\u001B[49m\u001B[43m     \u001B[49m\u001B[38;5;66;43;03m# sous-ensemble « greetings »\u001B[39;49;00m\n\u001B[32m     22\u001B[39m \u001B[43m    \u001B[49m\u001B[33;43m\"\u001B[39;49m\u001B[33;43mchatterbot.corpus.english.conversations\u001B[39;49m\u001B[33;43m\"\u001B[39;49m\u001B[43m  \u001B[49m\u001B[38;5;66;43;03m# sous-ensemble « conversations »\u001B[39;49;00m\n\u001B[32m     23\u001B[39m \u001B[43m)\u001B[49m\n\u001B[32m     25\u001B[39m \u001B[38;5;66;03m# --- Entraînement par liste de phrases personnalisées ---\u001B[39;00m\n\u001B[32m     26\u001B[39m trainer_list = ListTrainer(chatbot)\n",
      "\u001B[36mFile \u001B[39m\u001B[32m~/miniconda/envs/dl-gpu-clone/lib/python3.12/site-packages/chatterbot/trainers.py:135\u001B[39m, in \u001B[36mChatterBotCorpusTrainer.train\u001B[39m\u001B[34m(self, *corpus_paths)\u001B[39m\n\u001B[32m    132\u001B[39m \u001B[38;5;28;01mfor\u001B[39;00m corpus_path \u001B[38;5;129;01min\u001B[39;00m corpus_paths:\n\u001B[32m    133\u001B[39m     data_file_paths.extend(list_corpus_files(corpus_path))\n\u001B[32m--> \u001B[39m\u001B[32m135\u001B[39m \u001B[43m\u001B[49m\u001B[38;5;28;43;01mfor\u001B[39;49;00m\u001B[43m \u001B[49m\u001B[43mcorpus\u001B[49m\u001B[43m,\u001B[49m\u001B[43m \u001B[49m\u001B[43mcategories\u001B[49m\u001B[43m,\u001B[49m\u001B[43m \u001B[49m\u001B[43m_file_path\u001B[49m\u001B[43m \u001B[49m\u001B[38;5;129;43;01min\u001B[39;49;00m\u001B[43m \u001B[49m\u001B[43mtqdm\u001B[49m\u001B[43m(\u001B[49m\n\u001B[32m    136\u001B[39m \u001B[43m    \u001B[49m\u001B[43mload_corpus\u001B[49m\u001B[43m(\u001B[49m\u001B[43m*\u001B[49m\u001B[43mdata_file_paths\u001B[49m\u001B[43m)\u001B[49m\u001B[43m,\u001B[49m\n\u001B[32m    137\u001B[39m \u001B[43m    \u001B[49m\u001B[43mdesc\u001B[49m\u001B[43m=\u001B[49m\u001B[33;43m'\u001B[39;49m\u001B[33;43mChatterBot Corpus Trainer\u001B[39;49m\u001B[33;43m'\u001B[39;49m\u001B[43m,\u001B[49m\n\u001B[32m    138\u001B[39m \u001B[43m    \u001B[49m\u001B[43mdisable\u001B[49m\u001B[43m=\u001B[49m\u001B[38;5;28;43mself\u001B[39;49m\u001B[43m.\u001B[49m\u001B[43mdisable_progress\u001B[49m\n\u001B[32m    139\u001B[39m \u001B[43m\u001B[49m\u001B[43m)\u001B[49m\u001B[43m:\u001B[49m\n\u001B[32m    140\u001B[39m \u001B[43m    \u001B[49m\u001B[43mstatements_to_create\u001B[49m\u001B[43m \u001B[49m\u001B[43m=\u001B[49m\u001B[43m \u001B[49m\u001B[43m[\u001B[49m\u001B[43m]\u001B[49m\n\u001B[32m    142\u001B[39m \u001B[43m    \u001B[49m\u001B[38;5;66;43;03m# Train the chat bot with each statement and response pair\u001B[39;49;00m\n",
      "\u001B[36mFile \u001B[39m\u001B[32m~/miniconda/envs/dl-gpu-clone/lib/python3.12/site-packages/tqdm/std.py:1181\u001B[39m, in \u001B[36mtqdm.__iter__\u001B[39m\u001B[34m(self)\u001B[39m\n\u001B[32m   1178\u001B[39m time = \u001B[38;5;28mself\u001B[39m._time\n\u001B[32m   1180\u001B[39m \u001B[38;5;28;01mtry\u001B[39;00m:\n\u001B[32m-> \u001B[39m\u001B[32m1181\u001B[39m \u001B[43m    \u001B[49m\u001B[38;5;28;43;01mfor\u001B[39;49;00m\u001B[43m \u001B[49m\u001B[43mobj\u001B[49m\u001B[43m \u001B[49m\u001B[38;5;129;43;01min\u001B[39;49;00m\u001B[43m \u001B[49m\u001B[43miterable\u001B[49m\u001B[43m:\u001B[49m\n\u001B[32m   1182\u001B[39m \u001B[43m        \u001B[49m\u001B[38;5;28;43;01myield\u001B[39;49;00m\u001B[43m \u001B[49m\u001B[43mobj\u001B[49m\n\u001B[32m   1183\u001B[39m \u001B[43m        \u001B[49m\u001B[38;5;66;43;03m# Update and possibly print the progressbar.\u001B[39;49;00m\n\u001B[32m   1184\u001B[39m \u001B[43m        \u001B[49m\u001B[38;5;66;43;03m# Note: does not call self.update(1) for speed optimisation.\u001B[39;49;00m\n",
      "\u001B[36mFile \u001B[39m\u001B[32m~/miniconda/envs/dl-gpu-clone/lib/python3.12/site-packages/chatterbot/corpus.py:84\u001B[39m, in \u001B[36mload_corpus\u001B[39m\u001B[34m(*data_file_paths)\u001B[39m\n\u001B[32m     82\u001B[39m \u001B[38;5;28;01mfor\u001B[39;00m file_path \u001B[38;5;129;01min\u001B[39;00m data_file_paths:\n\u001B[32m     83\u001B[39m     corpus = []\n\u001B[32m---> \u001B[39m\u001B[32m84\u001B[39m     corpus_data = \u001B[43mread_corpus\u001B[49m\u001B[43m(\u001B[49m\u001B[43mfile_path\u001B[49m\u001B[43m)\u001B[49m\n\u001B[32m     86\u001B[39m     conversations = corpus_data.get(\u001B[33m'\u001B[39m\u001B[33mconversations\u001B[39m\u001B[33m'\u001B[39m, [])\n\u001B[32m     87\u001B[39m     corpus.extend(conversations)\n",
      "\u001B[36mFile \u001B[39m\u001B[32m~/miniconda/envs/dl-gpu-clone/lib/python3.12/site-packages/chatterbot/corpus.py:58\u001B[39m, in \u001B[36mread_corpus\u001B[39m\u001B[34m(file_name)\u001B[39m\n\u001B[32m     51\u001B[39m     message = (\n\u001B[32m     52\u001B[39m         \u001B[33m'\u001B[39m\u001B[33mUnable to import \u001B[39m\u001B[33m\"\u001B[39m\u001B[33myaml\u001B[39m\u001B[33m\"\u001B[39m\u001B[33m.\u001B[39m\u001B[38;5;130;01m\\n\u001B[39;00m\u001B[33m'\u001B[39m\n\u001B[32m     53\u001B[39m         \u001B[33m'\u001B[39m\u001B[33mPlease install \u001B[39m\u001B[33m\"\u001B[39m\u001B[33mpyyaml\u001B[39m\u001B[33m\"\u001B[39m\u001B[33m to enable chatterbot corpus functionality:\u001B[39m\u001B[38;5;130;01m\\n\u001B[39;00m\u001B[33m'\u001B[39m\n\u001B[32m     54\u001B[39m         \u001B[33m'\u001B[39m\u001B[33mpip install pyyaml\u001B[39m\u001B[33m'\u001B[39m\n\u001B[32m     55\u001B[39m     )\n\u001B[32m     56\u001B[39m     \u001B[38;5;28;01mraise\u001B[39;00m OptionalDependencyImportError(message)\n\u001B[32m---> \u001B[39m\u001B[32m58\u001B[39m \u001B[38;5;28;01mwith\u001B[39;00m \u001B[43mio\u001B[49m\u001B[43m.\u001B[49m\u001B[43mopen\u001B[49m\u001B[43m(\u001B[49m\u001B[43mfile_name\u001B[49m\u001B[43m,\u001B[49m\u001B[43m \u001B[49m\u001B[43mencoding\u001B[49m\u001B[43m=\u001B[49m\u001B[33;43m'\u001B[39;49m\u001B[33;43mutf-8\u001B[39;49m\u001B[33;43m'\u001B[39;49m\u001B[43m)\u001B[49m \u001B[38;5;28;01mas\u001B[39;00m data_file:\n\u001B[32m     59\u001B[39m     \u001B[38;5;28;01mreturn\u001B[39;00m yaml.safe_load(data_file)\n",
      "\u001B[31mFileNotFoundError\u001B[39m: [Errno 2] No such file or directory: '/home/salok1/chatterbot_corpus/data/english'"
     ]
    }
   ],
   "execution_count": 7
  },
  {
   "cell_type": "markdown",
   "metadata": {},
   "source": [
    "As we can see the training was not only for the FinancialRatioAdapter, but also for the list and corpus trainer. Let us move to the model testing."
   ]
  },
  {
   "cell_type": "markdown",
   "metadata": {},
   "source": [
    "<a id='6'></a>\n",
    "# 6. Model Testing and Usage"
   ]
  },
  {
   "cell_type": "code",
   "metadata": {
    "ExecuteTime": {
     "end_time": "2025-10-01T23:09:17.831832400Z",
     "start_time": "2025-05-02T20:50:52.720574Z"
    }
   },
   "source": [
    "def converse(quit=\"quit\"):\n",
    "    user_input = \"\"\n",
    "    while user_input != quit:\n",
    "        user_input = quit\n",
    "        try:\n",
    "            user_input = input(\">\")\n",
    "        except EOFError:\n",
    "            print(user_input)\n",
    "        if user_input:\n",
    "            while user_input[-1] in \"!.\":\n",
    "                user_input = user_input[:-1]\n",
    "            print(chatbot.get_response(user_input))"
   ],
   "outputs": [],
   "execution_count": 19
  },
  {
   "cell_type": "code",
   "metadata": {
    "ExecuteTime": {
     "end_time": "2025-10-01T23:09:17.832832300Z",
     "start_time": "2025-05-02T20:50:52.730477Z"
    }
   },
   "source": [
    "converse()"
   ],
   "outputs": [
    {
     "ename": "KeyboardInterrupt",
     "evalue": "Interrupted by user",
     "output_type": "error",
     "traceback": [
      "\u001B[31m---------------------------------------------------------------------------\u001B[39m",
      "\u001B[31mKeyboardInterrupt\u001B[39m                         Traceback (most recent call last)",
      "\u001B[36mCell\u001B[39m\u001B[36m \u001B[39m\u001B[32mIn[20]\u001B[39m\u001B[32m, line 1\u001B[39m\n\u001B[32m----> \u001B[39m\u001B[32m1\u001B[39m \u001B[43mconverse\u001B[49m\u001B[43m(\u001B[49m\u001B[43m)\u001B[49m\n",
      "\u001B[36mCell\u001B[39m\u001B[36m \u001B[39m\u001B[32mIn[19]\u001B[39m\u001B[32m, line 6\u001B[39m, in \u001B[36mconverse\u001B[39m\u001B[34m(quit)\u001B[39m\n\u001B[32m      4\u001B[39m user_input = quit\n\u001B[32m      5\u001B[39m \u001B[38;5;28;01mtry\u001B[39;00m:\n\u001B[32m----> \u001B[39m\u001B[32m6\u001B[39m     user_input = \u001B[38;5;28;43minput\u001B[39;49m\u001B[43m(\u001B[49m\u001B[33;43m\"\u001B[39;49m\u001B[33;43m>\u001B[39;49m\u001B[33;43m\"\u001B[39;49m\u001B[43m)\u001B[49m\n\u001B[32m      7\u001B[39m \u001B[38;5;28;01mexcept\u001B[39;00m \u001B[38;5;167;01mEOFError\u001B[39;00m:\n\u001B[32m      8\u001B[39m     \u001B[38;5;28mprint\u001B[39m(user_input)\n",
      "\u001B[36mFile \u001B[39m\u001B[32m~\\AppData\\Roaming\\Python\\Python312\\site-packages\\ipykernel\\kernelbase.py:1282\u001B[39m, in \u001B[36mKernel.raw_input\u001B[39m\u001B[34m(self, prompt)\u001B[39m\n\u001B[32m   1280\u001B[39m     msg = \u001B[33m\"\u001B[39m\u001B[33mraw_input was called, but this frontend does not support input requests.\u001B[39m\u001B[33m\"\u001B[39m\n\u001B[32m   1281\u001B[39m     \u001B[38;5;28;01mraise\u001B[39;00m StdinNotImplementedError(msg)\n\u001B[32m-> \u001B[39m\u001B[32m1282\u001B[39m \u001B[38;5;28;01mreturn\u001B[39;00m \u001B[38;5;28;43mself\u001B[39;49m\u001B[43m.\u001B[49m\u001B[43m_input_request\u001B[49m\u001B[43m(\u001B[49m\n\u001B[32m   1283\u001B[39m \u001B[43m    \u001B[49m\u001B[38;5;28;43mstr\u001B[39;49m\u001B[43m(\u001B[49m\u001B[43mprompt\u001B[49m\u001B[43m)\u001B[49m\u001B[43m,\u001B[49m\n\u001B[32m   1284\u001B[39m \u001B[43m    \u001B[49m\u001B[38;5;28;43mself\u001B[39;49m\u001B[43m.\u001B[49m\u001B[43m_parent_ident\u001B[49m\u001B[43m[\u001B[49m\u001B[33;43m\"\u001B[39;49m\u001B[33;43mshell\u001B[39;49m\u001B[33;43m\"\u001B[39;49m\u001B[43m]\u001B[49m\u001B[43m,\u001B[49m\n\u001B[32m   1285\u001B[39m \u001B[43m    \u001B[49m\u001B[38;5;28;43mself\u001B[39;49m\u001B[43m.\u001B[49m\u001B[43mget_parent\u001B[49m\u001B[43m(\u001B[49m\u001B[33;43m\"\u001B[39;49m\u001B[33;43mshell\u001B[39;49m\u001B[33;43m\"\u001B[39;49m\u001B[43m)\u001B[49m\u001B[43m,\u001B[49m\n\u001B[32m   1286\u001B[39m \u001B[43m    \u001B[49m\u001B[43mpassword\u001B[49m\u001B[43m=\u001B[49m\u001B[38;5;28;43;01mFalse\u001B[39;49;00m\u001B[43m,\u001B[49m\n\u001B[32m   1287\u001B[39m \u001B[43m\u001B[49m\u001B[43m)\u001B[49m\n",
      "\u001B[36mFile \u001B[39m\u001B[32m~\\AppData\\Roaming\\Python\\Python312\\site-packages\\ipykernel\\kernelbase.py:1325\u001B[39m, in \u001B[36mKernel._input_request\u001B[39m\u001B[34m(self, prompt, ident, parent, password)\u001B[39m\n\u001B[32m   1322\u001B[39m \u001B[38;5;28;01mexcept\u001B[39;00m \u001B[38;5;167;01mKeyboardInterrupt\u001B[39;00m:\n\u001B[32m   1323\u001B[39m     \u001B[38;5;66;03m# re-raise KeyboardInterrupt, to truncate traceback\u001B[39;00m\n\u001B[32m   1324\u001B[39m     msg = \u001B[33m\"\u001B[39m\u001B[33mInterrupted by user\u001B[39m\u001B[33m\"\u001B[39m\n\u001B[32m-> \u001B[39m\u001B[32m1325\u001B[39m     \u001B[38;5;28;01mraise\u001B[39;00m \u001B[38;5;167;01mKeyboardInterrupt\u001B[39;00m(msg) \u001B[38;5;28;01mfrom\u001B[39;00m\u001B[38;5;250m \u001B[39m\u001B[38;5;28;01mNone\u001B[39;00m\n\u001B[32m   1326\u001B[39m \u001B[38;5;28;01mexcept\u001B[39;00m \u001B[38;5;167;01mException\u001B[39;00m:\n\u001B[32m   1327\u001B[39m     \u001B[38;5;28mself\u001B[39m.log.warning(\u001B[33m\"\u001B[39m\u001B[33mInvalid Message:\u001B[39m\u001B[33m\"\u001B[39m, exc_info=\u001B[38;5;28;01mTrue\u001B[39;00m)\n",
      "\u001B[31mKeyboardInterrupt\u001B[39m: Interrupted by user"
     ]
    }
   ],
   "execution_count": 20
  },
  {
   "cell_type": "markdown",
   "metadata": {},
   "source": [
    "The custom logic adaptor for our Chatter bot, finds a RATIO or a COMPANY in the sentence using our NLP model. If the model finds exactly one COMPANY and exactly one RATIO, it con structs a url to guide the user. Additionally other logical adpater such as mathematical evaluation, and curpus and list trainer work as expected as well. "
   ]
  },
  {
   "cell_type": "markdown",
   "metadata": {},
   "source": [
    "**Conclusion**\n",
    "\n",
    "In this case study, we have learned how to make a chatbot in python using the ChatterBot library. We learnt how to build a custom NLP based model focusing on NER(Named Entity Recognition) and use in a chatbot.\n",
    "\n",
    "\n",
    "In order to train a blank model, one must have a substantial training dataset. In this\n",
    "case study, we looked at patterns available to us and used them to generate training\n",
    "samples. \n",
    "\n",
    "This case study is a demo project, and significant enhancements can be made for each\n",
    "component to extend it for a wide variety of tasks. Additional preprocessing steps can\n",
    "be added to have cleaner data to work with. \n",
    "\n",
    "Overall, this case study provides an introduction to all the aspects of chatbot development. Although, it is a very simple bot, it’s a good starting point to use NLP to create\n",
    "chatbots.\n",
    "\n",
    "\n"
   ]
  }
 ],
 "metadata": {
  "_change_revision": 206,
  "_is_fork": false,
  "kernelspec": {
   "display_name": "Python 3",
   "language": "python",
   "name": "python3"
  },
  "language_info": {
   "codemirror_mode": {
    "name": "ipython",
    "version": 3
   },
   "file_extension": ".py",
   "mimetype": "text/x-python",
   "name": "python",
   "nbconvert_exporter": "python",
   "pygments_lexer": "ipython3",
   "version": "3.7.3"
  }
 },
 "nbformat": 4,
 "nbformat_minor": 1
}
